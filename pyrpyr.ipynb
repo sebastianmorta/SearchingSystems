{
 "cells": [
  {
   "cell_type": "code",
   "execution_count": 239,
   "metadata": {
    "collapsed": true,
    "pycharm": {
     "name": "#%%\n"
    }
   },
   "outputs": [],
   "source": [
    "import pandas as pd\n",
    "import numpy as np\n",
    "import os\n",
    "import seaborn as sns\n",
    "from sklearn.preprocessing import LabelEncoder\n",
    "from sklearn.model_selection import train_test_split\n",
    "from sklearn.linear_model import LogisticRegression\n",
    "from sklearn.metrics import classification_report\n",
    "from sklearn.feature_extraction.text import TfidfVectorizer, CountVectorizer\n",
    "from sklearn.ensemble import RandomForestClassifier"
   ]
  },
  {
   "cell_type": "code",
   "execution_count": 240,
   "outputs": [],
   "source": [
    "# loading dataset\n",
    "df = pd.read_csv(\"bbc-text.csv\")"
   ],
   "metadata": {
    "collapsed": false,
    "pycharm": {
     "name": "#%%\n"
    }
   }
  },
  {
   "cell_type": "code",
   "execution_count": 241,
   "outputs": [
    {
     "name": "stderr",
     "output_type": "stream",
     "text": [
      "C:\\Users\\WorkPlace\\anaconda3\\envs\\SystemyWyszukiwania\\lib\\site-packages\\seaborn\\_decorators.py:36: FutureWarning: Pass the following variable as a keyword arg: x. From version 0.12, the only valid positional argument will be `data`, and passing other arguments without an explicit keyword will result in an error or misinterpretation.\n",
      "  warnings.warn(\n"
     ]
    },
    {
     "data": {
      "text/plain": "<AxesSubplot:xlabel='category', ylabel='count'>"
     },
     "execution_count": 241,
     "metadata": {},
     "output_type": "execute_result"
    },
    {
     "data": {
      "text/plain": "<Figure size 432x288 with 1 Axes>",
      "image/png": "[encoded data removed]"
     },
     "metadata": {
      "needs_background": "light"
     },
     "output_type": "display_data"
    }
   ],
   "source": [
    "sns.countplot(df.category)"
   ],
   "metadata": {
    "collapsed": false,
    "pycharm": {
     "name": "#%%\n"
    }
   }
  },
  {
   "cell_type": "code",
   "execution_count": 242,
   "outputs": [
    {
     "data": {
      "text/plain": "        category                                               text\n0           tech  tv future in the hands of viewers with home th...\n1       business  worldcom boss  left books alone  former worldc...\n2          sport  tigers wary of farrell  gamble  leicester say ...\n3          sport  yeading face newcastle in fa cup premiership s...\n4  entertainment  ocean s twelve raids box office ocean s twelve...",
      "text/html": "<div>\n<style scoped>\n    .dataframe tbody tr th:only-of-type {\n        vertical-align: middle;\n    }\n\n    .dataframe tbody tr th {\n        vertical-align: top;\n    }\n\n    .dataframe thead th {\n        text-align: right;\n    }\n</style>\n<table border=\"1\" class=\"dataframe\">\n  <thead>\n    <tr style=\"text-align: right;\">\n      <th></th>\n      <th>category</th>\n      <th>text</th>\n    </tr>\n  </thead>\n  <tbody>\n    <tr>\n      <th>0</th>\n      <td>tech</td>\n      <td>tv future in the hands of viewers with home th...</td>\n    </tr>\n    <tr>\n      <th>1</th>\n      <td>business</td>\n      <td>worldcom boss  left books alone  former worldc...</td>\n    </tr>\n    <tr>\n      <th>2</th>\n      <td>sport</td>\n      <td>tigers wary of farrell  gamble  leicester say ...</td>\n    </tr>\n    <tr>\n      <th>3</th>\n      <td>sport</td>\n      <td>yeading face newcastle in fa cup premiership s...</td>\n    </tr>\n    <tr>\n      <th>4</th>\n      <td>entertainment</td>\n      <td>ocean s twelve raids box office ocean s twelve...</td>\n    </tr>\n  </tbody>\n</table>\n</div>"
     },
     "execution_count": 242,
     "metadata": {},
     "output_type": "execute_result"
    }
   ],
   "source": [
    "df.head()"
   ],
   "metadata": {
    "collapsed": false,
    "pycharm": {
     "name": "#%%\n"
    }
   }
  },
  {
   "cell_type": "code",
   "execution_count": 243,
   "outputs": [],
   "source": [
    "df['category'].value_counts()\n",
    "X = list(df['text'])\n",
    "y = list(df['category'])\n"
   ],
   "metadata": {
    "collapsed": false,
    "pycharm": {
     "name": "#%%\n"
    }
   }
  },
  {
   "cell_type": "code",
   "execution_count": 244,
   "outputs": [
    {
     "name": "stdout",
     "output_type": "stream",
     "text": [
      "       00       000  000 000  000 barrels  000 cars  000 civil  \\\n",
      "0     0.0  0.024458      0.0          0.0       0.0        0.0   \n",
      "1     0.0  0.032118      0.0          0.0       0.0        0.0   \n",
      "2     0.0  0.000000      0.0          0.0       0.0        0.0   \n",
      "3     0.0  0.000000      0.0          0.0       0.0        0.0   \n",
      "4     0.0  0.000000      0.0          0.0       0.0        0.0   \n",
      "...   ...       ...      ...          ...       ...        ...   \n",
      "2220  0.0  0.000000      0.0          0.0       0.0        0.0   \n",
      "2221  0.0  0.076927      0.0          0.0       0.0        0.0   \n",
      "2222  0.0  0.038574      0.0          0.0       0.0        0.0   \n",
      "2223  0.0  0.027652      0.0          0.0       0.0        0.0   \n",
      "2224  0.0  0.000000      0.0          0.0       0.0        0.0   \n",
      "\n",
      "      000 complaints  000 copies  000 fans  000 fine  ...  zealand summer  \\\n",
      "0                0.0         0.0       0.0       0.0  ...             0.0   \n",
      "1                0.0         0.0       0.0       0.0  ...             0.0   \n",
      "2                0.0         0.0       0.0       0.0  ...             0.0   \n",
      "3                0.0         0.0       0.0       0.0  ...             0.0   \n",
      "4                0.0         0.0       0.0       0.0  ...             0.0   \n",
      "...              ...         ...       ...       ...  ...             ...   \n",
      "2220             0.0         0.0       0.0       0.0  ...             0.0   \n",
      "2221             0.0         0.0       0.0       0.0  ...             0.0   \n",
      "2222             0.0         0.0       0.0       0.0  ...             0.0   \n",
      "2223             0.0         0.0       0.0       0.0  ...             0.0   \n",
      "2224             0.0         0.0       0.0       0.0  ...             0.0   \n",
      "\n",
      "      zeppelin  zero  zero tolerance  zhang  zimbabwe  zombies  zone  zurich  \\\n",
      "0          0.0   0.0             0.0    0.0       0.0      0.0   0.0     0.0   \n",
      "1          0.0   0.0             0.0    0.0       0.0      0.0   0.0     0.0   \n",
      "2          0.0   0.0             0.0    0.0       0.0      0.0   0.0     0.0   \n",
      "3          0.0   0.0             0.0    0.0       0.0      0.0   0.0     0.0   \n",
      "4          0.0   0.0             0.0    0.0       0.0      0.0   0.0     0.0   \n",
      "...        ...   ...             ...    ...       ...      ...   ...     ...   \n",
      "2220       0.0   0.0             0.0    0.0       0.0      0.0   0.0     0.0   \n",
      "2221       0.0   0.0             0.0    0.0       0.0      0.0   0.0     0.0   \n",
      "2222       0.0   0.0             0.0    0.0       0.0      0.0   0.0     0.0   \n",
      "2223       0.0   0.0             0.0    0.0       0.0      0.0   0.0     0.0   \n",
      "2224       0.0   0.0             0.0    0.0       0.0      0.0   0.0     0.0   \n",
      "\n",
      "      zurich premiership  \n",
      "0                    0.0  \n",
      "1                    0.0  \n",
      "2                    0.0  \n",
      "3                    0.0  \n",
      "4                    0.0  \n",
      "...                  ...  \n",
      "2220                 0.0  \n",
      "2221                 0.0  \n",
      "2222                 0.0  \n",
      "2223                 0.0  \n",
      "2224                 0.0  \n",
      "\n",
      "[2225 rows x 14415 columns]\n"
     ]
    },
    {
     "name": "stderr",
     "output_type": "stream",
     "text": [
      "C:\\Users\\WorkPlace\\anaconda3\\envs\\SystemyWyszukiwania\\lib\\site-packages\\sklearn\\utils\\deprecation.py:87: FutureWarning: Function get_feature_names is deprecated; get_feature_names is deprecated in 1.0 and will be removed in 1.2. Please use get_feature_names_out instead.\n",
      "  warnings.warn(msg, category=FutureWarning)\n"
     ]
    }
   ],
   "source": [
    "tfidf = TfidfVectorizer(sublinear_tf=True, min_df=5, norm='l2', encoding='latin-1', ngram_range=(1, 2), stop_words='english')\n",
    "tfidf_stats = tfidf.fit_transform(X)\n",
    "tfidf_tokens = tfidf.get_feature_names()\n",
    "tfidf_vect = pd.DataFrame(data=tfidf_stats.toarray(), columns = tfidf_tokens)\n",
    "\n",
    "print(tfidf_vect)"
   ],
   "metadata": {
    "collapsed": false,
    "pycharm": {
     "name": "#%%\n"
    }
   }
  },
  {
   "cell_type": "code",
   "execution_count": 245,
   "outputs": [],
   "source": [
    "Labelencoder = LabelEncoder()\n",
    "y = Labelencoder.fit_transform(y)\n"
   ],
   "metadata": {
    "collapsed": false,
    "pycharm": {
     "name": "#%%\n"
    }
   }
  },
  {
   "cell_type": "code",
   "execution_count": 246,
   "outputs": [],
   "source": [
    "countvectorizer = CountVectorizer(analyzer='word', stop_words='english')"
   ],
   "metadata": {
    "collapsed": false,
    "pycharm": {
     "name": "#%%\n"
    }
   }
  },
  {
   "cell_type": "code",
   "execution_count": 247,
   "outputs": [],
   "source": [
    "X_train, X_test, y_train, y_test = train_test_split(tfidf_vect, y, train_size= .8, random_state = 1410)"
   ],
   "metadata": {
    "collapsed": false,
    "pycharm": {
     "name": "#%%\n"
    }
   }
  },
  {
   "cell_type": "code",
   "execution_count": 247,
   "outputs": [],
   "source": [
    "\n"
   ],
   "metadata": {
    "collapsed": false,
    "pycharm": {
     "name": "#%%\n"
    }
   }
  },
  {
   "cell_type": "code",
   "execution_count": 252,
   "outputs": [
    {
     "name": "stdout",
     "output_type": "stream",
     "text": [
      "              precision    recall  f1-score   support\n",
      "\n",
      "           0       0.97      1.00      0.98        98\n",
      "           1       1.00      0.99      0.99        86\n",
      "           2       0.97      0.99      0.98        77\n",
      "           3       0.99      1.00      1.00       100\n",
      "           4       1.00      0.95      0.98        84\n",
      "\n",
      "    accuracy                           0.99       445\n",
      "   macro avg       0.99      0.99      0.99       445\n",
      "weighted avg       0.99      0.99      0.99       445\n",
      "\n"
     ]
    }
   ],
   "source": [
    "model = LogisticRegression(multi_class=\"multinomial\")\n",
    "model.fit(X_train, y_train)\n",
    "y_pred = model.predict(X_test)\n",
    "\n",
    "print(classification_report(y_test,y_pred))"
   ],
   "metadata": {
    "collapsed": false,
    "pycharm": {
     "name": "#%%\n"
    }
   }
  },
  {
   "cell_type": "code",
   "execution_count": 251,
   "outputs": [
    {
     "name": "stdout",
     "output_type": "stream",
     "text": [
      "              precision    recall  f1-score   support\n",
      "\n",
      "           0       0.91      1.00      0.95        98\n",
      "           1       1.00      0.92      0.96        86\n",
      "           2       0.97      0.94      0.95        77\n",
      "           3       0.96      1.00      0.98       100\n",
      "           4       0.99      0.94      0.96        84\n",
      "\n",
      "    accuracy                           0.96       445\n",
      "   macro avg       0.97      0.96      0.96       445\n",
      "weighted avg       0.96      0.96      0.96       445\n",
      "\n"
     ]
    }
   ],
   "source": [
    "\n",
    "model = RandomForestClassifier()\n",
    "model.fit(X_train, y_train)\n",
    "y_pred = model.predict(X_test)\n",
    "\n",
    "print(classification_report(y_test,y_pred))"
   ],
   "metadata": {
    "collapsed": false,
    "pycharm": {
     "name": "#%%\n"
    }
   }
  }
 ],
 "metadata": {
  "kernelspec": {
   "display_name": "Python 3",
   "language": "python",
   "name": "python3"
  },
  "language_info": {
   "codemirror_mode": {
    "name": "ipython",
    "version": 2
   },
   "file_extension": ".py",
   "mimetype": "text/x-python",
   "name": "python",
   "nbconvert_exporter": "python",
   "pygments_lexer": "ipython2",
   "version": "2.7.6"
  }
 },
 "nbformat": 4,
 "nbformat_minor": 0
}