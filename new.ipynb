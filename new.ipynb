{
 "cells": [
  {
   "cell_type": "code",
   "execution_count": 18,
   "outputs": [],
   "source": [
    "import pandas as pd\n",
    "import numpy as np\n",
    "import os\n",
    "import seaborn as sns\n",
    "from sklearn.preprocessing import LabelEncoder\n",
    "from sklearn.model_selection import train_test_split\n",
    "from sklearn.linear_model import LogisticRegression\n",
    "from sklearn.metrics import classification_report\n",
    "from sklearn.feature_extraction.text import TfidfVectorizer, CountVectorizer\n",
    "from sklearn.ensemble import RandomForestClassifier\n",
    "from sklearn.neighbors import KNeighborsClassifier\n",
    "from wordcloud import WordCloud\n",
    "import matplotlib.pyplot as plt\n",
    "import re\n",
    "import pickle"
   ],
   "metadata": {
    "collapsed": false,
    "pycharm": {
     "name": "#%%\n"
    }
   }
  },
  {
   "cell_type": "code",
   "execution_count": 46,
   "outputs": [
    {
     "data": {
      "text/plain": "                                                text   category\n0  I was wondering if anyone out there could enli...  rec.autos\n1  I recently posted an article asking what kind ...  rec.autos\n2  \\nIt depends on your priorities.  A lot of peo...  rec.autos\n3  an excellent automatic can be found in the sub...  rec.autos\n4  : Ford and his automobile.  I need information...  rec.autos",
      "text/html": "<div>\n<style scoped>\n    .dataframe tbody tr th:only-of-type {\n        vertical-align: middle;\n    }\n\n    .dataframe tbody tr th {\n        vertical-align: top;\n    }\n\n    .dataframe thead th {\n        text-align: right;\n    }\n</style>\n<table border=\"1\" class=\"dataframe\">\n  <thead>\n    <tr style=\"text-align: right;\">\n      <th></th>\n      <th>text</th>\n      <th>category</th>\n    </tr>\n  </thead>\n  <tbody>\n    <tr>\n      <th>0</th>\n      <td>I was wondering if anyone out there could enli...</td>\n      <td>rec.autos</td>\n    </tr>\n    <tr>\n      <th>1</th>\n      <td>I recently posted an article asking what kind ...</td>\n      <td>rec.autos</td>\n    </tr>\n    <tr>\n      <th>2</th>\n      <td>\\nIt depends on your priorities.  A lot of peo...</td>\n      <td>rec.autos</td>\n    </tr>\n    <tr>\n      <th>3</th>\n      <td>an excellent automatic can be found in the sub...</td>\n      <td>rec.autos</td>\n    </tr>\n    <tr>\n      <th>4</th>\n      <td>: Ford and his automobile.  I need information...</td>\n      <td>rec.autos</td>\n    </tr>\n  </tbody>\n</table>\n</div>"
     },
     "execution_count": 46,
     "metadata": {},
     "output_type": "execute_result"
    }
   ],
   "source": [
    "# load dataset\n",
    "#df = pd.read_csv(\"datasets/bbc-text.csv\") # src: https://www.kaggle.com/c/learn-ai-bbc\n",
    "df = pd.read_csv(\"datasets/20_newsgroup.csv\") # src: http://qwone.com/~jason/20Newsgroups/\n",
    "#df = pd.read_csv(\"datasets/news_headlines.csv\") # src: https://www.kaggle.com/datasets/rmisra/news-category-dataset\n",
    "\n",
    "df = df.astype(str)\n",
    "#df = df.groupby('category', group_keys=False).apply(lambda x: x.sample(1000)) # stratify -- take x elements of each category\n",
    "df.head()"
   ],
   "metadata": {
    "collapsed": false,
    "pycharm": {
     "name": "#%%\n"
    }
   }
  },
  {
   "cell_type": "code",
   "execution_count": 35,
   "outputs": [
    {
     "name": "stdout",
     "output_type": "stream",
     "text": [
      "rec.sport.hockey            600\n",
      "soc.religion.christian      599\n",
      "rec.motorcycles             598\n",
      "rec.sport.baseball          597\n",
      "sci.crypt                   595\n",
      "rec.autos                   594\n",
      "sci.med                     594\n",
      "comp.windows.x              593\n",
      "sci.space                   593\n",
      "comp.os.ms-windows.misc     591\n",
      "sci.electronics             591\n",
      "comp.sys.ibm.pc.hardware    590\n",
      "misc.forsale                585\n",
      "comp.graphics               584\n",
      "comp.sys.mac.hardware       578\n",
      "talk.politics.mideast       564\n",
      "talk.politics.guns          546\n",
      "alt.atheism                 480\n",
      "talk.politics.misc          465\n",
      "talk.religion.misc          377\n",
      "Name: category, dtype: int64\n"
     ]
    },
    {
     "name": "stderr",
     "output_type": "stream",
     "text": [
      "p:\\python_projects\\searchingsystems\\venv\\lib\\site-packages\\seaborn\\_decorators.py:36: FutureWarning: Pass the following variable as a keyword arg: x. From version 0.12, the only valid positional argument will be `data`, and passing other arguments without an explicit keyword will result in an error or misinterpretation.\n",
      "  warnings.warn(\n"
     ]
    },
    {
     "data": {
      "text/plain": "<Figure size 432x288 with 1 Axes>",
      "image/png": "[encoded data removed]"
     },
     "metadata": {
      "needs_background": "light"
     },
     "output_type": "display_data"
    }
   ],
   "source": [
    "sns.countplot(df.category) # generate class plot\n",
    "print(df['category'].value_counts()) # print count for each class"
   ],
   "metadata": {
    "collapsed": false,
    "pycharm": {
     "name": "#%%\n"
    }
   }
  },
  {
   "cell_type": "code",
   "execution_count": 7,
   "outputs": [
    {
     "name": "stderr",
     "output_type": "stream",
     "text": [
      "p:\\python_projects\\searchingsystems\\venv\\lib\\site-packages\\seaborn\\distributions.py:2619: FutureWarning: `distplot` is a deprecated function and will be removed in a future version. Please adapt your code to use either `displot` (a figure-level function with similar flexibility) or `histplot` (an axes-level function for histograms).\n",
      "  warnings.warn(msg, FutureWarning)\n"
     ]
    },
    {
     "data": {
      "text/plain": "Text(0.5, 1.0, 'Article length distribution')"
     },
     "execution_count": 7,
     "metadata": {},
     "output_type": "execute_result"
    },
    {
     "data": {
      "text/plain": "<Figure size 432x288 with 1 Axes>",
      "image/png": "[encoded data removed]"
     },
     "metadata": {
      "needs_background": "light"
     },
     "output_type": "display_data"
    }
   ],
   "source": [
    "# count number of words in each article\n",
    "\n",
    "df['word_count'] = df['text'].str.len()\n",
    "sns.distplot(df['word_count']).set_title('Article length distribution')"
   ],
   "metadata": {
    "collapsed": false,
    "pycharm": {
     "name": "#%%\n"
    }
   }
  },
  {
   "cell_type": "code",
   "execution_count": null,
   "outputs": [],
   "source": [
    "# generate word cloud for each class\n",
    "\n",
    "def create_wordcloud(words, title):\n",
    "    wordcloud = WordCloud(width=500, height=500).generate(words)\n",
    "    plt.figure(figsize=(10,10))\n",
    "    plt.imshow(wordcloud)\n",
    "    plt.title(title)\n",
    "    plt.show()\n",
    "\n",
    "for category in pd.unique(df['category']):\n",
    "    category_df = df.loc[df['category'] == category]\n",
    "    txt = ' '.join(category_df.text)\n",
    "    create_wordcloud(txt, category)"
   ],
   "metadata": {
    "collapsed": false,
    "pycharm": {
     "name": "#%%\n"
    }
   }
  },
  {
   "cell_type": "code",
   "execution_count": 47,
   "outputs": [
    {
     "data": {
      "text/plain": "                                                text   category  word_count\n0  i was wondering if anyone out there could enli...  rec.autos         456\n1  i recently posted an article asking what kind ...  rec.autos        7651\n2  it depends on your priorities a lot of people ...  rec.autos         439\n3  an excellent automatic can be found in the sub...  rec.autos        1925\n4   ford and his automobile i need information on...  rec.autos         341",
      "text/html": "<div>\n<style scoped>\n    .dataframe tbody tr th:only-of-type {\n        vertical-align: middle;\n    }\n\n    .dataframe tbody tr th {\n        vertical-align: top;\n    }\n\n    .dataframe thead th {\n        text-align: right;\n    }\n</style>\n<table border=\"1\" class=\"dataframe\">\n  <thead>\n    <tr style=\"text-align: right;\">\n      <th></th>\n      <th>text</th>\n      <th>category</th>\n      <th>word_count</th>\n    </tr>\n  </thead>\n  <tbody>\n    <tr>\n      <th>0</th>\n      <td>i was wondering if anyone out there could enli...</td>\n      <td>rec.autos</td>\n      <td>456</td>\n    </tr>\n    <tr>\n      <th>1</th>\n      <td>i recently posted an article asking what kind ...</td>\n      <td>rec.autos</td>\n      <td>7651</td>\n    </tr>\n    <tr>\n      <th>2</th>\n      <td>it depends on your priorities a lot of people ...</td>\n      <td>rec.autos</td>\n      <td>439</td>\n    </tr>\n    <tr>\n      <th>3</th>\n      <td>an excellent automatic can be found in the sub...</td>\n      <td>rec.autos</td>\n      <td>1925</td>\n    </tr>\n    <tr>\n      <th>4</th>\n      <td>ford and his automobile i need information on...</td>\n      <td>rec.autos</td>\n      <td>341</td>\n    </tr>\n  </tbody>\n</table>\n</div>"
     },
     "execution_count": 47,
     "metadata": {},
     "output_type": "execute_result"
    }
   ],
   "source": [
    "def clean_text(text):\n",
    "    text = text.lower().replace('\\n', ' ').replace('\\r', '').strip() # remove special characters\n",
    "    text = re.sub(' +', ' ', text) # remove multiple whitespaces\n",
    "    text = re.sub(r'[^\\w\\s]', '', text) # remove non-letter characters\n",
    "    # removing stopwords could be added here\n",
    "    return text\n",
    "\n",
    "df['text'] = df['text'].apply(clean_text)\n",
    "df['word_count'] = df['text'].str.len()\n",
    "df.head()"
   ],
   "metadata": {
    "collapsed": false,
    "pycharm": {
     "name": "#%%\n"
    }
   }
  },
  {
   "cell_type": "code",
   "execution_count": 48,
   "outputs": [
    {
     "name": "stdout",
     "output_type": "stream",
     "text": [
      "['rec.autos', 'rec.autos', 'rec.autos']\n"
     ]
    }
   ],
   "source": [
    "X = list(df['text'])\n",
    "y = list(df['category'])\n",
    "print(y[:3])"
   ],
   "metadata": {
    "collapsed": false,
    "pycharm": {
     "name": "#%%\n"
    }
   }
  },
  {
   "cell_type": "code",
   "execution_count": 49,
   "outputs": [
    {
     "name": "stdout",
     "output_type": "stream",
     "text": [
      "[7 7 7]\n"
     ]
    }
   ],
   "source": [
    "# label encoding\n",
    "\n",
    "label_encoder = LabelEncoder()\n",
    "y = label_encoder.fit_transform(y)\n",
    "print(y[:3])"
   ],
   "metadata": {
    "collapsed": false,
    "pycharm": {
     "name": "#%%\n"
    }
   }
  },
  {
   "cell_type": "code",
   "execution_count": 50,
   "outputs": [
    {
     "name": "stdout",
     "output_type": "stream",
     "text": [
      "train: 9051, test: 2263\n"
     ]
    }
   ],
   "source": [
    "# split data into train and test sets\n",
    "\n",
    "X_train, X_test, y_train, y_test = train_test_split(X, y, train_size= .8, random_state = 1410)\n",
    "print(f'train: {len(X_train)}, test: {len(X_test)}')"
   ],
   "metadata": {
    "collapsed": false,
    "pycharm": {
     "name": "#%%\n"
    }
   }
  },
  {
   "cell_type": "code",
   "execution_count": 51,
   "outputs": [],
   "source": [
    "# TFIDF\n",
    "# TF = count of specific word in article / number of words in article\n",
    "# IDF = log(number of articles containing specific word / number of articles)\n",
    "# TFIDF = TF * IDF -- for each article\n",
    "\n",
    "tfidf = TfidfVectorizer(sublinear_tf=True, min_df=10, norm='l2', encoding='utf-8', ngram_range=(1, 2), stop_words='english')\n",
    "X_train = tfidf.fit_transform(X_train).toarray()\n",
    "X_test = tfidf.transform(X_test).toarray()"
   ],
   "metadata": {
    "collapsed": false,
    "pycharm": {
     "name": "#%%\n"
    }
   }
  },
  {
   "cell_type": "code",
   "execution_count": 40,
   "outputs": [],
   "source": [
    "# Bag-of-Words\n",
    "count_vectorizer = CountVectorizer(analyzer='word', stop_words='english')\n",
    "X_train = count_vectorizer.fit_transform(X_train).toarray()\n",
    "X_test = count_vectorizer.transform(X_test).toarray()"
   ],
   "metadata": {
    "collapsed": false,
    "pycharm": {
     "name": "#%%\n"
    }
   }
  },
  {
   "cell_type": "code",
   "execution_count": null,
   "outputs": [],
   "source": [
    "# TODO:\n",
    "# Word2Vec"
   ],
   "metadata": {
    "collapsed": false,
    "pycharm": {
     "name": "#%%\n"
    }
   }
  },
  {
   "cell_type": "code",
   "execution_count": null,
   "outputs": [],
   "source": [
    "lr_model = LogisticRegression(multi_class=\"multinomial\")\n",
    "rf_model = RandomForestClassifier()\n",
    "knn_model = KNeighborsClassifier()\n",
    "\n",
    "models = [lr_model, rf_model, knn_model]\n",
    "\n",
    "for model in models:\n",
    "    model.fit(X_train, y_train)\n",
    "    y_pred = model.predict(X_test)\n",
    "    print(type(model).__name__)\n",
    "    print(classification_report(y_test,y_pred))"
   ],
   "metadata": {
    "collapsed": false,
    "pycharm": {
     "name": "#%%\n"
    }
   }
  },
  {
   "cell_type": "code",
   "execution_count": 52,
   "outputs": [
    {
     "name": "stdout",
     "output_type": "stream",
     "text": [
      "MLPClassifier\n",
      "              precision    recall  f1-score   support\n",
      "\n",
      "           0       0.65      0.64      0.65        81\n",
      "           1       0.64      0.60      0.62       120\n",
      "           2       0.60      0.65      0.63       130\n",
      "           3       0.59      0.60      0.59       109\n",
      "           4       0.76      0.72      0.74       134\n",
      "           5       0.79      0.74      0.76       120\n",
      "           6       0.74      0.76      0.75       111\n",
      "           7       0.64      0.75      0.69       138\n",
      "           8       0.77      0.68      0.72       120\n",
      "           9       0.65      0.82      0.72       133\n",
      "          10       0.89      0.79      0.84       130\n",
      "          11       0.86      0.85      0.85       107\n",
      "          12       0.63      0.71      0.67       118\n",
      "          13       0.80      0.80      0.80        98\n",
      "          14       0.85      0.73      0.79       120\n",
      "          15       0.73      0.77      0.75       114\n",
      "          16       0.79      0.73      0.76       121\n",
      "          17       0.89      0.78      0.83       100\n",
      "          18       0.62      0.71      0.66        89\n",
      "          19       0.63      0.46      0.53        70\n",
      "\n",
      "    accuracy                           0.72      2263\n",
      "   macro avg       0.72      0.71      0.72      2263\n",
      "weighted avg       0.73      0.72      0.72      2263\n",
      "\n"
     ]
    }
   ],
   "source": [
    "from sklearn.neural_network import MLPClassifier\n",
    "mlp_model=MLPClassifier()\n",
    "\n",
    "\n",
    "mlp_model.fit(X_train, y_train)\n",
    "y_pred = mlp_model.predict(X_test)\n",
    "print(type(mlp_model).__name__)\n",
    "print(classification_report(label_encoder.inverse_transform(y_test), label_encoder.inverse_transform(y_pred)))\n"
   ],
   "metadata": {
    "collapsed": false,
    "pycharm": {
     "name": "#%%\n"
    }
   }
  },
  {
   "cell_type": "code",
   "execution_count": 53,
   "outputs": [],
   "source": [
    "# save MLP model to file\n",
    "pickle.dump(mlp_model, open('mlp_model.pkl', 'wb'))"
   ],
   "metadata": {
    "collapsed": false,
    "pycharm": {
     "name": "#%%\n"
    }
   }
  },
  {
   "cell_type": "code",
   "execution_count": 65,
   "outputs": [
    {
     "name": "stdout",
     "output_type": "stream",
     "text": [
      "actual:\n",
      "['rec.sport.hockey', 'talk.politics.guns', 'rec.sport.baseball', 'comp.sys.ibm.pc.hardware', 'sci.electronics', 'rec.autos', 'talk.politics.misc', 'talk.religion.misc']\n",
      "predicted:\n",
      "['rec.sport.hockey' 'talk.politics.guns' 'rec.sport.baseball'\n",
      " 'comp.sys.ibm.pc.hardware' 'sci.med' 'rec.autos' 'talk.politics.mideast'\n",
      " 'talk.politics.mideast']\n"
     ]
    }
   ],
   "source": [
    "# testing the MLP model on own dataset\n",
    "saved_model = pickle.load(open('mlp_model.pkl', 'rb'))\n",
    "\n",
    "test_df = pd.read_csv('datasets/nasz.csv', delimiter=';')\n",
    "test_df = test_df.astype(str)\n",
    "\n",
    "test_df['text'] = test_df['text'].apply(clean_text)\n",
    "test_df['word_count'] = test_df['text'].str.len()\n",
    "\n",
    "test_X = list(test_df['text'])\n",
    "test_y = list(test_df['category'])\n",
    "\n",
    "test_X = tfidf.transform(test_X).toarray()\n",
    "\n",
    "# test_X= count_vectorizer.transform(test_X).toarray()\n",
    "\n",
    "pred = saved_model.predict(test_X)\n",
    "\n",
    "print('actual:')\n",
    "print(test_y)\n",
    "\n",
    "print('predicted:')\n",
    "print(label_encoder.inverse_transform(pred))"
   ],
   "metadata": {
    "collapsed": false,
    "pycharm": {
     "name": "#%%\n"
    }
   }
  }
 ],
 "metadata": {
  "kernelspec": {
   "display_name": "Python 3",
   "language": "python",
   "name": "python3"
  },
  "language_info": {
   "codemirror_mode": {
    "name": "ipython",
    "version": 2
   },
   "file_extension": ".py",
   "mimetype": "text/x-python",
   "name": "python",
   "nbconvert_exporter": "python",
   "pygments_lexer": "ipython2",
   "version": "2.7.6"
  }
 },
 "nbformat": 4,
 "nbformat_minor": 0
}